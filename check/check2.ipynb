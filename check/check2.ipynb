{
 "cells": [
  {
   "cell_type": "code",
   "execution_count": 35,
   "metadata": {},
   "outputs": [
    {
     "data": {
      "text/plain": [
       "True"
      ]
     },
     "execution_count": 35,
     "metadata": {},
     "output_type": "execute_result"
    }
   ],
   "source": [
    "def dfs(target_sum:int,lis:list,counter:int = 0) -> bool:\n",
    "    if len(lis) == 0:\n",
    "        return 0 == target_sum\n",
    "    else:\n",
    "        for i in range(len(lis)):\n",
    "            if i == len(lis)-1:\n",
    "                return (lis[i] + counter == target_sum) or (counter == target_sum)\n",
    "            elif dfs(target_sum,lis[i+1:],counter=lis[i]+counter):\n",
    "                return True\n",
    "            elif dfs(target_sum,lis[i+1:],counter=counter):\n",
    "                return True\n",
    "            else:\n",
    "                return False\n",
    "\n",
    "target_sum = 600\n",
    "lis = [100,10,500,1000]\n",
    "dfs(target_sum,lis)"
   ]
  },
  {
   "cell_type": "code",
   "execution_count": 15,
   "metadata": {
    "ExecuteTime": {
     "end_time": "2020-01-18T04:40:54.386343Z",
     "start_time": "2020-01-18T04:40:54.368351Z"
    }
   },
   "outputs": [
    {
     "name": "stdout",
     "output_type": "stream",
     "text": [
      "3\n"
     ]
    }
   ],
   "source": [
    "import numpy as np\n",
    "\n",
    "n = 5\n",
    "s = [1,2,4,6,8,5]\n",
    "t = [3,5,7,9,10,6]\n",
    "\n",
    "s_t = np.array([s,t]).T\n",
    "filt=np.argsort(s_t[:,1])\n",
    "s_t = s_t[filt]\n",
    "\n",
    "ans = 0\n",
    "tim = 0\n",
    "\n",
    "for i in range(len(s_t)):\n",
    "    if tim < s_t[i,0]: # 開始の瞬間と終了の瞬間が重なるのもダメな問題なので\n",
    "        ans += 1\n",
    "        tim = s_t[i,1]\n",
    "\n",
    "print(ans)"
   ]
  },
  {
   "cell_type": "code",
   "execution_count": 45,
   "metadata": {
    "ExecuteTime": {
     "end_time": "2020-01-18T05:36:22.049081Z",
     "start_time": "2020-01-18T05:36:22.020084Z"
    },
    "code_folding": [
     5
    ]
   },
   "outputs": [
    {
     "name": "stdout",
     "output_type": "stream",
     "text": [
      "ABCBCD\n"
     ]
    }
   ],
   "source": [
    "n = 6  # 文字数\n",
    "ss = \"ACDBCB\"\n",
    "st = \"\"\n",
    "\n",
    "\n",
    "def str_process(s: str, t: str):\n",
    "    if len(s) == 0:\n",
    "        return t\n",
    "    if len(s) == 1:\n",
    "        return t + s\n",
    "    elif s[0] < s[-1]:\n",
    "        t = t + s[0]\n",
    "        return str_process(s[1:], t)\n",
    "    elif s[0] > s[-1]:\n",
    "        t = t + s[-1]\n",
    "        return str_process(s[:-1], t)\n",
    "    else:\n",
    "        if s[::1] <= s[::-1]:\n",
    "            t = t + s[0]\n",
    "            return str_process(s[1:], t)\n",
    "        elif s[::1] > s[::-1]:\n",
    "            t = t + s[-1]\n",
    "            return str_process(s[:-1], t)\n",
    "\n",
    "def str_process_2(s: str, t: str):\n",
    "    if len(s) == 0:\n",
    "        return t\n",
    "    elif len(s) == 1:\n",
    "        return t + s\n",
    "    else:\n",
    "        if s[::1] <= s[::-1]:\n",
    "            t = t + s[0]\n",
    "            return str_process(s[1:], t)\n",
    "        elif s[::1] > s[::-1]:\n",
    "            t = t + s[-1]\n",
    "            return str_process(s[:-1], t)\n",
    "\n",
    "\n",
    "print(str_process(ss,st))\n",
    "# print(t)"
   ]
  },
  {
   "cell_type": "code",
   "execution_count": 71,
   "metadata": {
    "ExecuteTime": {
     "end_time": "2020-01-18T07:05:13.841932Z",
     "start_time": "2020-01-18T07:05:13.824918Z"
    }
   },
   "outputs": [
    {
     "name": "stdout",
     "output_type": "stream",
     "text": [
      "1 1 1\n",
      "2 1 1\n",
      "5 30 30\n",
      "(7, 3)\n"
     ]
    }
   ],
   "source": [
    "n = 6  # 点の個数\n",
    "r = 10\n",
    "x = [1, 7, 15, 20, 30, 50]\n",
    "# x = [1,7,15,20,30,50,10,22,33]\n",
    "\n",
    "\n",
    "def sarumans_army(rad: int, lis: list) -> (int,int):\n",
    "    lis.sort()\n",
    "    i = 0\n",
    "    ans = 0\n",
    "    L = len(lis)\n",
    "    while i < L:\n",
    "        s = lis[i]\n",
    "        while (i < L and lis[i] <= s+rad):\n",
    "            p = lis[i]\n",
    "            while (i < L and lis[i] <= p+rad):\n",
    "                ans += 1\n",
    "                i += 1\n",
    "                print(i,s,p)\n",
    "            i += 1\n",
    "        i += 1\n",
    "    \n",
    "    return i,ans\n",
    "\n",
    "\n",
    "print(sarumans_army(10, x))"
   ]
  },
  {
   "cell_type": "code",
   "execution_count": null,
   "metadata": {},
   "outputs": [],
   "source": [
    "n = 3\n",
    "L = [8,5,8]\n",
    "\n"
   ]
  }
 ],
 "metadata": {
  "kernelspec": {
   "display_name": "Python 3",
   "language": "python",
   "name": "python3"
  },
  "language_info": {
   "codemirror_mode": {
    "name": "ipython",
    "version": 3
   },
   "file_extension": ".py",
   "mimetype": "text/x-python",
   "name": "python",
   "nbconvert_exporter": "python",
   "pygments_lexer": "ipython3",
   "version": "3.7.1"
  },
  "toc": {
   "base_numbering": 1,
   "nav_menu": {},
   "number_sections": true,
   "sideBar": true,
   "skip_h1_title": false,
   "title_cell": "Table of Contents",
   "title_sidebar": "Contents",
   "toc_cell": false,
   "toc_position": {},
   "toc_section_display": true,
   "toc_window_display": false
  },
  "varInspector": {
   "cols": {
    "lenName": 16,
    "lenType": 16,
    "lenVar": 40
   },
   "kernels_config": {
    "python": {
     "delete_cmd_postfix": "",
     "delete_cmd_prefix": "del ",
     "library": "var_list.py",
     "varRefreshCmd": "print(var_dic_list())"
    },
    "r": {
     "delete_cmd_postfix": ") ",
     "delete_cmd_prefix": "rm(",
     "library": "var_list.r",
     "varRefreshCmd": "cat(var_dic_list()) "
    }
   },
   "types_to_exclude": [
    "module",
    "function",
    "builtin_function_or_method",
    "instance",
    "_Feature"
   ],
   "window_display": false
  }
 },
 "nbformat": 4,
 "nbformat_minor": 2
}
