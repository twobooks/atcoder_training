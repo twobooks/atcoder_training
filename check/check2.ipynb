{
 "cells": [
  {
   "cell_type": "code",
   "execution_count": 35,
   "metadata": {},
   "outputs": [
    {
     "data": {
      "text/plain": [
       "True"
      ]
     },
     "execution_count": 35,
     "metadata": {},
     "output_type": "execute_result"
    }
   ],
   "source": [
    "def dfs(target_sum:int,lis:list,counter:int = 0) -> bool:\n",
    "    if len(lis) == 0:\n",
    "        return 0 == target_sum\n",
    "    else:\n",
    "        for i in range(len(lis)):\n",
    "            if i == len(lis)-1:\n",
    "                return (lis[i] + counter == target_sum) or (counter == target_sum)\n",
    "            elif dfs(target_sum,lis[i+1:],counter=lis[i]+counter):\n",
    "                return True\n",
    "            elif dfs(target_sum,lis[i+1:],counter=counter):\n",
    "                return True\n",
    "            else:\n",
    "                return False\n",
    "\n",
    "target_sum = 600\n",
    "lis = [100,10,500,1000]\n",
    "dfs(target_sum,lis)"
   ]
  },
  {
   "cell_type": "code",
   "execution_count": null,
   "metadata": {
    "collapsed": true
   },
   "outputs": [],
   "source": []
  }
 ],
 "metadata": {
  "kernelspec": {
   "display_name": "Python 3",
   "language": "python",
   "name": "python3"
  },
  "language_info": {
   "codemirror_mode": {
    "name": "ipython",
    "version": 3
   },
   "file_extension": ".py",
   "mimetype": "text/x-python",
   "name": "python",
   "nbconvert_exporter": "python",
   "pygments_lexer": "ipython3",
   "version": "3.7.1"
  },
  "toc": {
   "base_numbering": 1,
   "nav_menu": {},
   "number_sections": true,
   "sideBar": true,
   "skip_h1_title": false,
   "title_cell": "Table of Contents",
   "title_sidebar": "Contents",
   "toc_cell": false,
   "toc_position": {},
   "toc_section_display": true,
   "toc_window_display": false
  }
 },
 "nbformat": 4,
 "nbformat_minor": 2
}
