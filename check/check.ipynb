{
 "nbformat": 4,
 "nbformat_minor": 2,
 "metadata": {
  "language_info": {
   "name": "python",
   "codemirror_mode": {
    "name": "ipython",
    "version": 3
   },
   "version": "3.7.1-final"
  },
  "orig_nbformat": 2,
  "file_extension": ".py",
  "mimetype": "text/x-python",
  "name": "python",
  "npconvert_exporter": "python",
  "pygments_lexer": "ipython3",
  "version": 3,
  "kernelspec": {
   "name": "python37164bitbaseconda2d685918857e4db58ed302c26762bc92",
   "display_name": "Python 3.7.1 64-bit ('base': conda)"
  }
 },
 "cells": [
  {
   "source": [
    "import numpy as np\n",
    "import sklearn as sl\n",
    "import scipy as sc"
   ],
   "cell_type": "code",
   "outputs": [],
   "metadata": {},
   "execution_count": 3
  },
  {
   "source": [
    "n , m = 10,10\n",
    "arr = np.empty((n,m),dtype=np.object)\n",
    "arr[:,:] = \"AC\"\n",
    "arr[0][0]"
   ],
   "cell_type": "code",
   "outputs": [
    {
     "output_type": "execute_result",
     "data": {
      "text/plain": "'AC'"
     },
     "metadata": {},
     "execution_count": 9
    }
   ],
   "metadata": {},
   "execution_count": 9
  }
 ]
}