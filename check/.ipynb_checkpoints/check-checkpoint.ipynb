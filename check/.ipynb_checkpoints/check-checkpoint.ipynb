{
 "cells": [
  {
   "cell_type": "code",
   "execution_count": 3,
   "metadata": {
    "collapsed": true
   },
   "outputs": [],
   "source": [
    "import numpy as np\n",
    "import sklearn as sl\n",
    "import scipy as sc"
   ]
  },
  {
   "cell_type": "code",
   "execution_count": 9,
   "metadata": {},
   "outputs": [
    {
     "data": {
      "text/plain": [
       "'AC'"
      ]
     },
     "execution_count": 9,
     "metadata": {},
     "output_type": "execute_result"
    }
   ],
   "source": [
    "n , m = 10,10\n",
    "arr = np.empty((n,m),dtype=np.object)\n",
    "arr[:,:] = \"AC\"\n",
    "arr[0][0]"
   ]
  },
  {
   "cell_type": "code",
   "execution_count": 1,
   "metadata": {},
   "outputs": [
    {
     "name": "stdout",
     "output_type": "stream",
     "text": [
      "[1, 2]\n",
      "1stpop:2 , 2ndpop:1\n"
     ]
    }
   ],
   "source": [
    "# python でスタック（後に入れたものを先に出すやつ）はリストでOK\n",
    "stack = []\n",
    "stack.append(1)\n",
    "stack.append(2)\n",
    "print(stack)\n",
    "print(f\"1stpop:{stack.pop()} , 2ndpop:{stack.pop()}\")"
   ]
  },
  {
   "cell_type": "code",
   "execution_count": 7,
   "metadata": {},
   "outputs": [
    {
     "name": "stdout",
     "output_type": "stream",
     "text": [
      "deque([1, 2])\n",
      "1stpop:2 , 2ndpop:1\n",
      "deque([1, 2])\n",
      "1stpopleft:1 , 2ndpopleft:2\n"
     ]
    }
   ],
   "source": [
    "# Pythonでキュー（先に入れたやつを先に出すやつ）はcollection のdeque を使うとよい\n",
    "from collections import deque\n",
    "que = deque()\n",
    "que.append(1)\n",
    "que.append(2)\n",
    "\n",
    "que2 =que.copy()\n",
    "\n",
    "print(que)\n",
    "print(f\"1stpop:{que.pop()} , 2ndpop:{que.pop()}\")\n",
    "\n",
    "print(que2)\n",
    "print(f\"1stpopleft:{que2.popleft()} , 2ndpopleft:{que2.popleft()}\")"
   ]
  },
  {
   "cell_type": "code",
   "execution_count": 10,
   "metadata": {},
   "outputs": [
    {
     "data": {
      "text/plain": [
       "False"
      ]
     },
     "execution_count": 10,
     "metadata": {},
     "output_type": "execute_result"
    }
   ],
   "source": [
    "#Pythonでも文字列の辞書順比較ができる。後に出てくる方が大きいとされるぽい。ページ番号的な扱いと理解すればよいかも\n",
    "\n",
    "# \"A\" < \"B\" # True\n",
    "# \"あ\" < \"い\" # True\n",
    "\"あいう\" < \"あああ\" #False"
   ]
  }
 ],
 "metadata": {
  "file_extension": ".py",
  "kernelspec": {
   "display_name": "Python 3",
   "language": "python",
   "name": "python3"
  },
  "language_info": {
   "codemirror_mode": {
    "name": "ipython",
    "version": 3
   },
   "file_extension": ".py",
   "mimetype": "text/x-python",
   "name": "python",
   "nbconvert_exporter": "python",
   "pygments_lexer": "ipython3",
   "version": "3.6.3"
  },
  "mimetype": "text/x-python",
  "name": "python",
  "npconvert_exporter": "python",
  "pygments_lexer": "ipython3",
  "version": 3
 },
 "nbformat": 4,
 "nbformat_minor": 2
}
