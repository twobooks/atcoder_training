{
 "cells": [
  {
   "cell_type": "code",
   "execution_count": 7,
   "metadata": {
    "ExecuteTime": {
     "end_time": "2020-01-17T00:21:02.037822Z",
     "start_time": "2020-01-17T00:20:47.108864Z"
    },
    "collapsed": true,
    "hide_input": false
   },
   "outputs": [],
   "source": [
    "import os\n",
    "\n",
    "import numpy as np\n",
    "import sklearn\n",
    "import scipy"
   ]
  },
  {
   "cell_type": "code",
   "execution_count": 3,
   "metadata": {
    "ExecuteTime": {
     "end_time": "2020-01-16T12:16:00.824937Z",
     "start_time": "2020-01-16T12:16:00.804924Z"
    }
   },
   "outputs": [
    {
     "data": {
      "text/plain": [
       "array([['AC', 'AC', 'AC', 'AC', 'AC', 'AC', 'AC', 'AC', 'AC', 'AC'],\n",
       "       ['AC', 'AC', 'AC', 'AC', 'AC', 'AC', 'AC', 'AC', 'AC', 'AC'],\n",
       "       ['AC', 'AC', 'AC', 'AC', 'AC', 'AC', 'AC', 'AC', 'AC', 'AC'],\n",
       "       ['AC', 'AC', 'AC', 'AC', 'AC', 'AC', 'AC', 'AC', 'AC', 'AC'],\n",
       "       ['AC', 'AC', 'AC', 'AC', 'AC', 'AC', 'AC', 'AC', 'AC', 'AC'],\n",
       "       ['AC', 'AC', 'AC', 'AC', 'AC', 'AC', 'AC', 'AC', 'AC', 'AC'],\n",
       "       ['AC', 'AC', 'AC', 'AC', 'AC', 'AC', 'AC', 'AC', 'AC', 'AC'],\n",
       "       ['AC', 'AC', 'AC', 'AC', 'AC', 'AC', 'AC', 'AC', 'AC', 'AC'],\n",
       "       ['AC', 'AC', 'AC', 'AC', 'AC', 'AC', 'AC', 'AC', 'AC', 'AC'],\n",
       "       ['AC', 'AC', 'AC', 'AC', 'AC', 'AC', 'AC', 'AC', 'AC', 'AC']],\n",
       "      dtype=object)"
      ]
     },
     "execution_count": 3,
     "metadata": {},
     "output_type": "execute_result"
    }
   ],
   "source": [
    "n , m = 10,10\n",
    "arr = np.empty((n,m),dtype=np.object)\n",
    "arr[:,:] = \"AC\"\n",
    "arr[0][0] #'AC'\n",
    "arr"
   ]
  },
  {
   "cell_type": "code",
   "execution_count": 1,
   "metadata": {},
   "outputs": [
    {
     "name": "stdout",
     "output_type": "stream",
     "text": [
      "[1, 2]\n",
      "1stpop:2 , 2ndpop:1\n"
     ]
    }
   ],
   "source": [
    "# python でスタック（後に入れたものを先に出すやつ）はリストでOK\n",
    "stack = []\n",
    "stack.append(1)\n",
    "stack.append(2)\n",
    "print(stack)\n",
    "print(f\"1stpop:{stack.pop()} , 2ndpop:{stack.pop()}\")"
   ]
  },
  {
   "cell_type": "code",
   "execution_count": 7,
   "metadata": {},
   "outputs": [
    {
     "name": "stdout",
     "output_type": "stream",
     "text": [
      "deque([1, 2])\n",
      "1stpop:2 , 2ndpop:1\n",
      "deque([1, 2])\n",
      "1stpopleft:1 , 2ndpopleft:2\n"
     ]
    }
   ],
   "source": [
    "# Pythonでキュー（先に入れたやつを先に出すやつ）はcollection のdeque を使うとよい\n",
    "from collections import deque\n",
    "que = deque()\n",
    "que.append(1)\n",
    "que.append(2)\n",
    "\n",
    "que2 = que.copy()\n",
    "\n",
    "print(que)\n",
    "print(f\"1stpop:{que.pop()} , 2ndpop:{que.pop()}\")\n",
    "\n",
    "print(que2)\n",
    "print(f\"1stpopleft:{que2.popleft()} , 2ndpopleft:{que2.popleft()}\")"
   ]
  },
  {
   "cell_type": "code",
   "execution_count": 10,
   "metadata": {
    "ExecuteTime": {
     "end_time": "2020-01-16T12:24:07.982956Z",
     "start_time": "2020-01-16T12:24:07.966959Z"
    }
   },
   "outputs": [
    {
     "data": {
      "text/plain": [
       "True"
      ]
     },
     "execution_count": 10,
     "metadata": {},
     "output_type": "execute_result"
    }
   ],
   "source": [
    "# pythonでも文字列の辞書順を比較できる。辞書順で後になる文字列の方が大きいと扱われる。\n",
    "\n",
    "\"A\" > \"B\"  # False\n",
    "\"A\" < \"B\"  # True\n",
    "\"あ\" > \"い\"  # False\n",
    "\"あ\" < \"い\"  # True\n",
    "\"あああ\" < \"あいう\"  # True"
   ]
  },
  {
   "cell_type": "code",
   "execution_count": 70,
   "metadata": {
    "ExecuteTime": {
     "end_time": "2020-01-16T13:43:25.480003Z",
     "start_time": "2020-01-16T13:43:25.457014Z"
    }
   },
   "outputs": [
    {
     "data": {
      "text/plain": [
       "'AABBCCDEF'"
      ]
     },
     "execution_count": 70,
     "metadata": {},
     "output_type": "execute_result"
    }
   ],
   "source": [
    "# 文字列の連結\n",
    "\"ABC\" + \"DEF\"\n",
    "\n",
    "# 文字列のスライス,操作\n",
    "s = \"ABCDE\"\n",
    "s[0]  # A\n",
    "s[-1]  # E\n",
    "s[1:]  # BCDE 最初を除いて全部\n",
    "s[:-1]  # ABCD 最後を除いて全部\n",
    "s[::-1]  # EDCBA 逆順\n",
    "s[::-1][1:]  # DCBA 逆順にして2文字目から全部\n",
    "s[::2]  # ACE ステップ指定して取得\n",
    "\n",
    "# 文字列のカウント\n",
    "\"ABCABCABC\".count(\"ABC\")  # 3\n",
    "\"ABCABCABC\".count(\"DEF\")  # 0\n",
    "\n",
    "# 文字列に含まれるかの判定\n",
    "\"WAWAWAAC\".find(\"AC\")  # 6\n",
    "\"WAWAWAAC\".find(\"EC\")  # -1 文字列が含まれない場合は-1\n",
    "\"AC\" in \"WAWAWAAC\"  # True\n",
    "\"EC\" in \"WAWAWAAC\"  # False\n",
    "s1 = \"EC\"\n",
    "s2 = \"WAWAWAAC\"\n",
    "s1 in s2  # False もちろん変数を用いてもOK\n",
    "\n",
    "# 文字列のソート\n",
    "sorted(\"ABCABCDEF\")  # ['A', 'A', 'B', 'B', 'C', 'C', 'D', 'E', 'F']\n",
    "\n",
    "# リスト内文字列の結合\n",
    "\"\".join(sorted(\"ABCABCDEF\"))  # 'AABBCCDEF'"
   ]
  },
  {
   "cell_type": "code",
   "execution_count": 1,
   "metadata": {
    "ExecuteTime": {
     "end_time": "2020-02-04T14:43:37.285417Z",
     "start_time": "2020-02-04T14:43:37.262418Z"
    }
   },
   "outputs": [
    {
     "name": "stdout",
     "output_type": "stream",
     "text": [
      "[0, 0, 0, 0, 0, 0, 0, 0]\n"
     ]
    },
    {
     "data": {
      "text/plain": [
       "'13457910'"
      ]
     },
     "execution_count": 1,
     "metadata": {},
     "output_type": "execute_result"
    }
   ],
   "source": [
    "# リストの連結\n",
    "[1, 2, 3] + [4, 5, 6]\n",
    "\n",
    "# リストのスカラ掛け算\n",
    "# [0,0,0,0,0,0,0,0]が返る\n",
    "lis = [0] * 8\n",
    "print(lis)\n",
    "\n",
    "# リストのソート（昇順）\n",
    "lis = [5,4,7,9,1,3,10]\n",
    "lis.sort() # 降順はreverse = Trueにする\n",
    "lis\n",
    "\n",
    "# リストを文字列にする\n",
    "\"\".join([str(i) for i in lis])"
   ]
  },
  {
   "cell_type": "code",
   "execution_count": 5,
   "metadata": {
    "ExecuteTime": {
     "end_time": "2020-02-04T15:11:30.910401Z",
     "start_time": "2020-02-04T15:11:30.888399Z"
    }
   },
   "outputs": [
    {
     "name": "stdout",
     "output_type": "stream",
     "text": [
      "Counter({4: 4, 'A': 4, 3: 3, 7: 3, 'W': 3, 'WA': 3, 1: 2, 2: 1, 5: 1, 6: 1, 'C': 1, 'AC': 1})\n",
      "dict_keys([1, 2, 3, 4, 5, 6, 7, 'W', 'A', 'C', 'WA', 'AC'])\n"
     ]
    },
    {
     "data": {
      "text/plain": [
       "{1, 2, 3, 4, 5, 6, 7}"
      ]
     },
     "execution_count": 5,
     "metadata": {},
     "output_type": "execute_result"
    }
   ],
   "source": [
    "# リスト内要素とかのカウント\n",
    "from collections import Counter\n",
    "\n",
    "# Counter({1: 2, 2: 1, 3: 3, 4: 4, 5: 1, 6: 1, 7: 3})\n",
    "counter0 = Counter([1, 1, 2, 3, 3, 3, 4, 4, 4, 4, 5, 6, 7, 7, 7])\n",
    "counter1 = Counter(\"WAWAWAAC\")  # Counter({'W': 3, 'A': 4, 'C': 1})\n",
    "counter2 = Counter([\"WA\", \"WA\", \"WA\", \"AC\"])  # Counter({'WA': 3, 'AC': 1})\n",
    "print(sum([counter0,counter1,counter2],Counter()))\n",
    "print(sum([counter0,counter1,counter2],Counter()).keys())\n",
    "\n",
    "# dictオブジェクトはインデックス使えない\n",
    "Counter({'WA': 3, 'AC': 1})[\"WA\"]  # Counterは辞書のように使う\n",
    "Counter({'WA': 3, 'AC': 1}).keys()  # dict_keys(['WA', 'AC'])\n",
    "Counter({'WA': 3, 'AC': 1}).items()  # dict_items([('WA', 3), ('AC', 1)])\n",
    "Counter({'WA': 3, 'AC': 1}).values()  # dict_values([3, 1])\n",
    "\n",
    "# リストから重複を削除。setオブジェクトもインデックス使えない\n",
    "set([1, 1, 2, 3, 3, 3, 4, 4, 4, 4, 5, 6, 7, 7, 7])  # {1, 2, 3, 4, 5, 6, 7}"
   ]
  },
  {
   "cell_type": "code",
   "execution_count": 37,
   "metadata": {
    "ExecuteTime": {
     "end_time": "2020-01-17T00:38:20.625551Z",
     "start_time": "2020-01-17T00:38:20.597565Z"
    }
   },
   "outputs": [
    {
     "data": {
      "text/plain": [
       "4999950000"
      ]
     },
     "execution_count": 37,
     "metadata": {},
     "output_type": "execute_result"
    }
   ],
   "source": [
    "# sum(range(100000)) #10ms\n",
    "np.array(range(100000),dtype=np.int64).sum() #25ms\n",
    "# np.sum(range(100000),dtype=np.int64) #25ms"
   ]
  },
  {
   "cell_type": "code",
   "execution_count": 43,
   "metadata": {
    "ExecuteTime": {
     "end_time": "2020-01-17T01:19:44.454176Z",
     "start_time": "2020-01-17T01:19:44.434187Z"
    }
   },
   "outputs": [
    {
     "name": "stdout",
     "output_type": "stream",
     "text": [
      "17.6 µs ± 2.56 µs per loop (mean ± std. dev. of 7 runs, 100 loops each)\n"
     ]
    }
   ],
   "source": [
    "%%timeit -n 100\n",
    "# [[0]*100 for i in range(100)] #120ms\n",
    "np.empty((100,100)) #8ms\n",
    "# list(np.empty((100,100))) #190ms"
   ]
  },
  {
   "cell_type": "code",
   "execution_count": 2,
   "metadata": {
    "ExecuteTime": {
     "end_time": "2020-01-18T07:06:16.439340Z",
     "start_time": "2020-01-18T07:06:16.421342Z"
    }
   },
   "outputs": [],
   "source": [
    "# 多次元リストの作り方\n",
    "# np.array()でndarrayを作る\n",
    "# あと転置して直感的に理解可能な行列の形にする\n",
    "s = [1,2,4,6,8,5]\n",
    "t = [3,5,7,9,10,6]\n",
    "s_t = np.array([s,t]).T\n",
    "\n",
    "# 多次元配列のソート\n",
    "filt=np.argsort(s_t[:,1]) # 特定の軸をargsort()に渡してフィルタを得る\n",
    "s_t = s_t[filt] # フィルタを渡してソート順にした行列にする"
   ]
  },
  {
   "cell_type": "code",
   "execution_count": null,
   "metadata": {},
   "outputs": [],
   "source": [
    "# whileの入れ子構造は下記の感じで\n",
    "# i += 1 の位置に注意\n",
    "while i < L:\n",
    "        s = lis[i]\n",
    "        while (i < L and lis[i] <= s+rad):\n",
    "            p = lis[i]\n",
    "            while (i < L and lis[i] <= p+rad):\n",
    "                ans += 1\n",
    "                i += 1\n",
    "                print(i,s,p)\n",
    "            i += 1\n",
    "        i += 1"
   ]
  }
 ],
 "metadata": {
  "file_extension": ".py",
  "kernelspec": {
   "display_name": "Python 3",
   "language": "python",
   "name": "python3"
  },
  "language_info": {
   "codemirror_mode": {
    "name": "ipython",
    "version": 3
   },
   "file_extension": ".py",
   "mimetype": "text/x-python",
   "name": "python",
   "nbconvert_exporter": "python",
   "pygments_lexer": "ipython3",
   "version": "3.7.1"
  },
  "mimetype": "text/x-python",
  "name": "python",
  "npconvert_exporter": "python",
  "pygments_lexer": "ipython3",
  "toc": {
   "base_numbering": 1,
   "nav_menu": {},
   "number_sections": true,
   "sideBar": true,
   "skip_h1_title": false,
   "title_cell": "Table of Contents",
   "title_sidebar": "Contents",
   "toc_cell": false,
   "toc_position": {},
   "toc_section_display": true,
   "toc_window_display": false
  },
  "varInspector": {
   "cols": {
    "lenName": 16,
    "lenType": 16,
    "lenVar": 40
   },
   "kernels_config": {
    "python": {
     "delete_cmd_postfix": "",
     "delete_cmd_prefix": "del ",
     "library": "var_list.py",
     "varRefreshCmd": "print(var_dic_list())"
    },
    "r": {
     "delete_cmd_postfix": ") ",
     "delete_cmd_prefix": "rm(",
     "library": "var_list.r",
     "varRefreshCmd": "cat(var_dic_list()) "
    }
   },
   "types_to_exclude": [
    "module",
    "function",
    "builtin_function_or_method",
    "instance",
    "_Feature"
   ],
   "window_display": false
  },
  "version": 3
 },
 "nbformat": 4,
 "nbformat_minor": 2
}
